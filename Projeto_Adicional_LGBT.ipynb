{
  "nbformat": 4,
  "nbformat_minor": 0,
  "metadata": {
    "colab": {
      "provenance": []
    },
    "kernelspec": {
      "name": "python3",
      "display_name": "Python 3"
    },
    "language_info": {
      "name": "python"
    }
  },
  "cells": [
    {
      "cell_type": "markdown",
      "source": [
        "Projeto tendo como base código aberto em csv em que mostre os 05 países mais seguros para a comunidade homossexual, considerando política e direitos igualitários."
      ],
      "metadata": {
        "id": "UP59CqyATyOe"
      }
    },
    {
      "cell_type": "markdown",
      "source": [
        "1 - Carregar o CSV diretamente da URL"
      ],
      "metadata": {
        "id": "rqF_t4EUJTxT"
      }
    },
    {
      "cell_type": "code",
      "execution_count": 1,
      "metadata": {
        "colab": {
          "base_uri": "https://localhost:8080/"
        },
        "id": "p_v2uRepTsRB",
        "outputId": "65ea70ac-9dac-4163-ab65-0a71d6c5817c"
      },
      "outputs": [
        {
          "output_type": "stream",
          "name": "stdout",
          "text": [
            "Download concluído!\n"
          ]
        }
      ],
      "source": [
        "import pandas as pd\n",
        "import matplotlib.pyplot as plt\n",
        "import seaborn as sns\n",
        "import requests\n",
        "import numpy as np\n",
        "\n",
        "# URL do CSV\n",
        "url = 'https://ourworldindata.org/grapher/lgbt-legal-equality-index.csv?v=1&csvType=full&useColumnShortNames=true'\n",
        "headers = {'User-Agent': 'Mozilla/5.0 (Windows NT 10.0; Win64; x64) AppleWebKit/537.36 (KHTML, like Gecko) Chrome/110.0.0.0 Safari/537.36'}\n",
        "\n",
        "response = requests.get(url, headers=headers)\n",
        "\n",
        "if response.status_code == 200:\n",
        "    with open('lgbt_legal_equality_index.csv', 'wb') as file:\n",
        "        file.write(response.content)\n",
        "    print('Download concluído!')\n",
        "else:\n",
        "    print(f'Erro ao baixar: {response.status_code}')"
      ]
    },
    {
      "cell_type": "code",
      "source": [
        "# Carregar os dados\n",
        "dados = pd.read_csv('lgbt_legal_equality_index.csv')\n",
        "\n",
        "# Remover espaços extras nos nomes das colunas (caso existam)\n",
        "dados.columns = dados.columns.str.strip()\n",
        "\n",
        "# Visualizar as primeiras linhas do dataset\n",
        "print(dados.head())"
      ],
      "metadata": {
        "colab": {
          "base_uri": "https://localhost:8080/"
        },
        "id": "naoh7gmccl3q",
        "outputId": "10372869-4806-4d1e-bfcc-77b5969f07ab"
      },
      "execution_count": 2,
      "outputs": [
        {
          "output_type": "stream",
          "name": "stdout",
          "text": [
            "        Entity Code  Year   ei_legal\n",
            "0  Afghanistan  AFG  2024   0.000000\n",
            "1       Africa  NaN  2024  20.723385\n",
            "2      Albania  ALB  2024  62.270000\n",
            "3      Algeria  DZA  2024   3.420000\n",
            "4      Andorra  AND  2024  85.710000\n"
          ]
        }
      ]
    },
    {
      "cell_type": "markdown",
      "source": [
        "2 - Verificar a estrutura do dataset"
      ],
      "metadata": {
        "id": "9Z7K5IG5JZZM"
      }
    },
    {
      "cell_type": "code",
      "source": [
        "# Verificar informações básicas do dataset\n",
        "print(dados.info())\n",
        "\n",
        "# Verificar colunas\n",
        "print(dados.columns)"
      ],
      "metadata": {
        "colab": {
          "base_uri": "https://localhost:8080/"
        },
        "id": "U7gtF2efUNfy",
        "outputId": "5d821522-673a-47ec-9d3e-179fd463d6f0"
      },
      "execution_count": 3,
      "outputs": [
        {
          "output_type": "stream",
          "name": "stdout",
          "text": [
            "<class 'pandas.core.frame.DataFrame'>\n",
            "RangeIndex: 201 entries, 0 to 200\n",
            "Data columns (total 4 columns):\n",
            " #   Column    Non-Null Count  Dtype  \n",
            "---  ------    --------------  -----  \n",
            " 0   Entity    201 non-null    object \n",
            " 1   Code      195 non-null    object \n",
            " 2   Year      201 non-null    int64  \n",
            " 3   ei_legal  201 non-null    float64\n",
            "dtypes: float64(1), int64(1), object(2)\n",
            "memory usage: 6.4+ KB\n",
            "None\n",
            "Index(['Entity', 'Code', 'Year', 'ei_legal'], dtype='object')\n"
          ]
        }
      ]
    },
    {
      "cell_type": "markdown",
      "source": [
        "3 - Analisar os dados e visualizar os resultados"
      ],
      "metadata": {
        "id": "b5ZGqC-aJl7l"
      }
    },
    {
      "cell_type": "code",
      "source": [
        "# Verificar se a coluna correta está presente\n",
        "if 'ei_legal' in dados.columns:\n",
        "\n",
        "  # Remover valores nulos\n",
        "  dados = dados.dropna(subset=['ei_legal'])\n",
        "\n",
        "  # Pegar apenas os dados mais recentes por país\n",
        "  dados_mais_recentes = dados.sort_values(by=['Entity', 'Year'], ascending=[True, False]).drop_duplicates(subset=['Entity'])\n",
        "\n",
        "  # Ordenar os países pelo índice de igualdade legal (do maior para o menor)\n",
        "  dados_ordenados = dados_mais_recentes.sort_values(by='ei_legal', ascending=False)\n",
        "\n",
        "# Visualizar os resultados\n",
        "\n",
        "  # Selecionar os 10 países com maior índice de igualdade legal\n",
        "  top_10_paises = dados_ordenados.head(10)\n",
        "\n",
        "  # Criar o gráfico\n",
        "  plt.figure(figsize=(10, 6))\n",
        "  sns.barplot(data=top_10_paises, x='ei_legal', y='Entity', hue='Entity', palette='viridis', legend=False) #Remove a legenda, já que cada barra representa um país\n",
        "\n",
        "  # Adicionar título e rótulos\n",
        "  plt.xlabel('Índice de Igualdade Legal LGBTQIA+')\n",
        "  plt.ylabel('País')\n",
        "  plt.title('Top 10 Países com Maior Índice de Igualdade Legal LGBTQIA+')\n",
        "  plt.xlim(0, 100)  # Supondo que o índice vai de 0 a 100\n",
        "  plt.grid(axis='x', linestyle='--', alpha=0.7)\n",
        "\n",
        "  # Mostrar o gráfico\n",
        "  plt.show()\n",
        "\n",
        "else:\n",
        "  print('A coluna \"ei_legal\" não foi encontrada no dataset.')"
      ],
      "metadata": {
        "colab": {
          "base_uri": "https://localhost:8080/",
          "height": 569
        },
        "id": "ZlXL526Yab1w",
        "outputId": "71a141dc-1317-4c3f-fdd7-a421b386ee03"
      },
      "execution_count": 4,
      "outputs": [
        {
          "output_type": "display_data",
          "data": {
            "text/plain": [
              "<Figure size 1000x600 with 1 Axes>"
            ],
            "image/png": "[encoded data removed]"
          },
          "metadata": {}
        }
      ]
    },
    {
      "cell_type": "markdown",
      "source": [
        "4 - Salvar o dataset atualizado"
      ],
      "metadata": {
        "id": "WUPfOLrPJyew"
      }
    },
    {
      "cell_type": "code",
      "source": [
        "# Salvar o dataset como CSV no Google Colab\n",
        "dados.to_csv('lgbt_legal_equality_index.csv', index=False)"
      ],
      "metadata": {
        "id": "D3nGe4lDai-W"
      },
      "execution_count": 6,
      "outputs": []
    },
    {
      "cell_type": "markdown",
      "source": [
        "Criar um modelo de Machine Learning - predição é binária (\"seguro\" ou \"não seguro\")"
      ],
      "metadata": {
        "id": "pribfBW5kNhJ"
      }
    },
    {
      "cell_type": "code",
      "source": [
        "# Preparar os Dados\n",
        "import pandas as pd\n",
        "import numpy as np\n",
        "\n",
        "# Carregar os dados\n",
        "dados = pd.read_csv('lgbt_legal_equality_index.csv')\n",
        "\n",
        "# Remover espaços extras nos nomes das colunas (caso existam)\n",
        "dados.columns = dados.columns.str.strip()\n",
        "\n",
        "# Selecionar apenas os dados mais recentes por país\n",
        "dados = dados.sort_values(by=['Entity', 'Year'], ascending=[True, False]).drop_duplicates(subset=['Entity'])\n",
        "\n",
        "# Remover valores nulos\n",
        "dados = dados.dropna(subset=['ei_legal'])\n",
        "\n",
        "# Criar a variável-alvo (país seguro ou não)\n",
        "dados['seguro'] = np.where(dados['ei_legal'] >= 70, 1, 0) #1 = Seguro, 0 = Não seguro\n",
        "\n",
        "# Selecionar colunas para análise\n",
        "dados = dados[['Entity', 'ei_legal', 'seguro']] #Adicionar mais variáveis preditoras aqui se disponíveis\n",
        "\n",
        "# Exibir amostra dos dados\n",
        "print(dados.head())"
      ],
      "metadata": {
        "colab": {
          "base_uri": "https://localhost:8080/"
        },
        "id": "SNudDMKakL3u",
        "outputId": "c548ed9f-5530-445f-c09f-a0682b4b8a56"
      },
      "execution_count": 7,
      "outputs": [
        {
          "output_type": "stream",
          "name": "stdout",
          "text": [
            "        Entity   ei_legal  seguro\n",
            "0  Afghanistan   0.000000       0\n",
            "1       Africa  20.723385       0\n",
            "2      Albania  62.270000       0\n",
            "3      Algeria   3.420000       0\n",
            "4      Andorra  85.710000       1\n"
          ]
        }
      ]
    },
    {
      "cell_type": "code",
      "source": [
        "# Criar e Treinar o Modelo\n",
        "from sklearn.model_selection import train_test_split\n",
        "from sklearn.ensemble import RandomForestClassifier\n",
        "from sklearn.metrics import accuracy_score, classification_report\n",
        "\n",
        "# Separar variáveis preditoras e alvo\n",
        "X = dados[['ei_legal']]  # Adicionar mais colunas aqui se houver mais dados\n",
        "y = dados['seguro']\n",
        "\n",
        "# Dividir em treino (80%) e teste (20%)\n",
        "X_train, X_test, y_train, y_test = train_test_split(X, y, test_size=0.2, random_state=42)\n",
        "\n",
        "# Criar o modelo (Random Forest)\n",
        "modelo = RandomForestClassifier(n_estimators=100, random_state=42)\n",
        "modelo.fit(X_train, y_train)\n",
        "\n",
        "# Fazer previsões\n",
        "y_pred = modelo.predict(X_test)\n",
        "\n",
        "# Avaliar o modelo\n",
        "print('Acurácia:', accuracy_score(y_test, y_pred))\n",
        "print('Relatório de Classificação:\\n', classification_report(y_test, y_pred))"
      ],
      "metadata": {
        "colab": {
          "base_uri": "https://localhost:8080/"
        },
        "id": "rAUAN_Evk4Z0",
        "outputId": "7fcfadc6-99ea-4a39-ad75-1f00159be64b"
      },
      "execution_count": 8,
      "outputs": [
        {
          "output_type": "stream",
          "name": "stdout",
          "text": [
            "Acurácia: 1.0\n",
            "Relatório de Classificação:\n",
            "               precision    recall  f1-score   support\n",
            "\n",
            "           0       1.00      1.00      1.00        33\n",
            "           1       1.00      1.00      1.00         8\n",
            "\n",
            "    accuracy                           1.00        41\n",
            "   macro avg       1.00      1.00      1.00        41\n",
            "weighted avg       1.00      1.00      1.00        41\n",
            "\n"
          ]
        }
      ]
    },
    {
      "cell_type": "code",
      "source": [
        "# Fazer Predições para um País Específico\n",
        "\n",
        "def prever_seguranca(pais, modelo, dados):\n",
        "    if pais not in dados['Entity'].values:\n",
        "        return f'Erro: O país \"{pais}\" não está no dataset.'\n",
        "\n",
        "    # Obter os dados do país\n",
        "    info_pais = dados[dados['Entity'] == pais]\n",
        "    valor_ei_legal = info_pais['ei_legal'].values[0]\n",
        "\n",
        "    # Fazer a predição\n",
        "    previsao = modelo.predict([[valor_ei_legal]])[0]\n",
        "\n",
        "    # Exibir resultado\n",
        "    status = 'Seguro 🏳️‍🌈✅' if previsao == 1 else 'Não seguro ❌'\n",
        "    return f'Previsão para {pais}: {status} (Índice de Igualdade: {valor_ei_legal})'\n",
        "\n",
        "# Testar a função com um país específico\n",
        "print(prever_seguranca('Canada', modelo, dados))"
      ],
      "metadata": {
        "colab": {
          "base_uri": "https://localhost:8080/"
        },
        "id": "QrKX50R3lIVe",
        "outputId": "fdd5923d-6297-45b4-b91d-d00146f1a5b8"
      },
      "execution_count": 9,
      "outputs": [
        {
          "output_type": "stream",
          "name": "stdout",
          "text": [
            "Previsão para Canada: Seguro 🏳️‍🌈✅ (Índice de Igualdade: 95.46)\n"
          ]
        },
        {
          "output_type": "stream",
          "name": "stderr",
          "text": [
            "/usr/local/lib/python3.11/dist-packages/sklearn/utils/validation.py:2739: UserWarning: X does not have valid feature names, but RandomForestClassifier was fitted with feature names\n",
            "  warnings.warn(\n"
          ]
        }
      ]
    },
    {
      "cell_type": "code",
      "source": [
        "# Testar a função com um país específico\n",
        "print(prever_seguranca('Chile', modelo, dados))"
      ],
      "metadata": {
        "colab": {
          "base_uri": "https://localhost:8080/"
        },
        "id": "o-T9DPlSlabx",
        "outputId": "9752a43a-e794-4135-acb2-1ffa2885fd5d"
      },
      "execution_count": 10,
      "outputs": [
        {
          "output_type": "stream",
          "name": "stdout",
          "text": [
            "Previsão para Chile: Seguro 🏳️‍🌈✅ (Índice de Igualdade: 100.0)\n"
          ]
        },
        {
          "output_type": "stream",
          "name": "stderr",
          "text": [
            "/usr/local/lib/python3.11/dist-packages/sklearn/utils/validation.py:2739: UserWarning: X does not have valid feature names, but RandomForestClassifier was fitted with feature names\n",
            "  warnings.warn(\n"
          ]
        }
      ]
    },
    {
      "cell_type": "code",
      "source": [
        "# Testar a função com um país específico\n",
        "print(prever_seguranca('Brazil', modelo, dados))"
      ],
      "metadata": {
        "colab": {
          "base_uri": "https://localhost:8080/"
        },
        "id": "P3gJr9zVleni",
        "outputId": "bd7dc1be-a730-4b3f-f9d5-3f745d2b2537"
      },
      "execution_count": 11,
      "outputs": [
        {
          "output_type": "stream",
          "name": "stdout",
          "text": [
            "Previsão para Brazil: Seguro 🏳️‍🌈✅ (Índice de Igualdade: 97.96)\n"
          ]
        },
        {
          "output_type": "stream",
          "name": "stderr",
          "text": [
            "/usr/local/lib/python3.11/dist-packages/sklearn/utils/validation.py:2739: UserWarning: X does not have valid feature names, but RandomForestClassifier was fitted with feature names\n",
            "  warnings.warn(\n"
          ]
        }
      ]
    },
    {
      "cell_type": "code",
      "source": [
        "# Testar a função com um país específico\n",
        "print(prever_seguranca('Africa', modelo, dados))"
      ],
      "metadata": {
        "colab": {
          "base_uri": "https://localhost:8080/"
        },
        "id": "3yGOFYXAlkQW",
        "outputId": "1fd04dc1-ae84-420b-cf4a-796b028b1014"
      },
      "execution_count": 12,
      "outputs": [
        {
          "output_type": "stream",
          "name": "stdout",
          "text": [
            "Previsão para Africa: Não seguro ❌ (Índice de Igualdade: 20.723385)\n"
          ]
        },
        {
          "output_type": "stream",
          "name": "stderr",
          "text": [
            "/usr/local/lib/python3.11/dist-packages/sklearn/utils/validation.py:2739: UserWarning: X does not have valid feature names, but RandomForestClassifier was fitted with feature names\n",
            "  warnings.warn(\n"
          ]
        }
      ]
    }
  ]
}